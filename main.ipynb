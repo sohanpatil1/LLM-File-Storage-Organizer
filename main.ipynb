{
 "cells": [
  {
   "cell_type": "code",
   "execution_count": null,
   "id": "53b95d43",
   "metadata": {},
   "outputs": [],
   "source": [
    "%pip install accelerate\n",
    "# Automatically places parts of the model on available devices (like GPUs or CPU) — We don’t have to manually move layers or tensors.\n",
    "# Supports model parallelism, splitting huge models across multiple GPUs or even machines.\n",
    "# Manages memory usage and device communication behind the scenes.\n",
    "# Simplifies running models in mixed precision (like float16) or quantized modes.\n",
    "# Provides tools to easily scale training and inference from one device to many.\n",
    "\n",
    "%pip install bitsandbytes\n",
    "# Allows to use quantization techniques to reduce model size and memory use."
   ]
  },
  {
   "cell_type": "code",
   "execution_count": null,
   "id": "366d8f8b",
   "metadata": {},
   "outputs": [],
   "source": [
    "from transformers import AutoTokenizer, AutoModelForCausalLM, BitsAndBytesConfig\n",
    "import torch\n",
    "import os"
   ]
  },
  {
   "cell_type": "code",
   "execution_count": null,
   "id": "ea1c2390",
   "metadata": {},
   "outputs": [],
   "source": [
    "device = torch.device(\"cuda\" if torch.cuda.is_available() else \"cpu\")\n",
    "device"
   ]
  },
  {
   "cell_type": "code",
   "execution_count": null,
   "id": "3d1f927f",
   "metadata": {},
   "outputs": [],
   "source": [
    "model_name = \"deepseek-ai/deepseek-coder-1.3b-base\""
   ]
  },
  {
   "cell_type": "code",
   "execution_count": null,
   "id": "b7e9b3cb",
   "metadata": {},
   "outputs": [],
   "source": [
    "# Since my laptop doesnt have enough storage or RAM to run the model, I will use an external drive. \n",
    "mount_point = \"Seagate\"\n",
    "\n",
    "if os.path.ismount(mount_point):\n",
    "    print(f\"/Volume/{mount_point} is mounted.\")\n",
    "    model_dir = f\"/Volumes/{mount_point}/VSWorkspace/{model_name.replace('/', '_')}\"\n",
    "    os.environ[\"HF_HOME\"] = model_dir # Caching directory for Hugging Face models\n",
    "else:\n",
    "    print(f\"/Volume/{mount_point} is not mounted.\")\n",
    "    model_dir = \"model\""
   ]
  },
  {
   "cell_type": "code",
   "execution_count": null,
   "id": "48a04adb",
   "metadata": {},
   "outputs": [],
   "source": [
    "if os.path.exists(model_dir):\n",
    "    tokenizer = AutoTokenizer.from_pretrained(model_dir)\n",
    "    model = AutoModelForCausalLM.from_pretrained(model_dir)\n",
    "else:\n",
    "    tokenizer = AutoTokenizer.from_pretrained(model_name, device_map=device)\n",
    "    model = AutoModelForCausalLM.from_pretrained(\n",
    "        model_name,\n",
    "        torch_dtype=torch.float16,\n",
    "        device_map=\"auto\",\n",
    "        trust_remote_code=True,\n",
    "        use_safetensors=True\n",
    "    )\n",
    "\n",
    "    model.save_pretrained(model_dir)\n",
    "    tokenizer.save_pretrained(model_dir)"
   ]
  }
 ],
 "metadata": {
  "kernelspec": {
   "display_name": "venv",
   "language": "python",
   "name": "python3"
  },
  "language_info": {
   "codemirror_mode": {
    "name": "ipython",
    "version": 3
   },
   "file_extension": ".py",
   "mimetype": "text/x-python",
   "name": "python",
   "nbconvert_exporter": "python",
   "pygments_lexer": "ipython3",
   "version": "3.9.12"
  }
 },
 "nbformat": 4,
 "nbformat_minor": 5
}
