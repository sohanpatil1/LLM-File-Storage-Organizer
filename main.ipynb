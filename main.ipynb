{
  "cells": [
    {
      "cell_type": "code",
      "execution_count": null,
      "id": "53b95d43",
      "metadata": {
        "id": "53b95d43"
      },
      "outputs": [],
      "source": [
        "# Accelerate : Automatically places parts of the model on available devices (like GPUs or CPU) — We don’t have to manually move layers or tensors.\n",
        "# Supports model parallelism, splitting huge models across multiple GPUs or even machines.\n",
        "# Manages memory usage and device communication behind the scenes.\n",
        "# Simplifies running models in mixed precision (like float16) or quantized modes.\n",
        "# Provides tools to easily scale training and inference from one device to many.\n",
        "\n",
        "# BitsandBytes : Allows to use quantization techniques to reduce model size and memory use.\n",
        "\n",
        "%pip install transformers datasets peft accelerate bitsandbytes torch\n"
      ]
    },
    {
      "cell_type": "code",
      "execution_count": null,
      "id": "366d8f8b",
      "metadata": {
        "id": "366d8f8b"
      },
      "outputs": [],
      "source": [
        "from transformers import AutoTokenizer, AutoModelForCausalLM, BitsAndBytesConfig\n",
        "import torch\n",
        "import os\n",
        "import pandas as pd\n",
        "from peft import LoraConfig, get_peft_model, TaskType\n",
        "import wandb"
      ]
    },
    {
      "cell_type": "code",
      "execution_count": null,
      "id": "ea1c2390",
      "metadata": {
        "id": "ea1c2390"
      },
      "outputs": [],
      "source": [
        "device = torch.device(\"cuda\" if torch.cuda.is_available() else \"cpu\")\n",
        "device"
      ]
    },
    {
      "cell_type": "code",
      "execution_count": null,
      "id": "3d1f927f",
      "metadata": {
        "id": "3d1f927f"
      },
      "outputs": [],
      "source": [
        "model_name = \"deepseek-ai/deepseek-coder-1.3b-base\""
      ]
    },
    {
      "cell_type": "code",
      "execution_count": null,
      "id": "b7e9b3cb",
      "metadata": {
        "id": "b7e9b3cb"
      },
      "outputs": [],
      "source": [
        "# Since my laptop doesnt have enough storage or RAM to run the model, I will use an external drive.\n",
        "mount_point = \"Seagate\"\n",
        "\n",
        "if os.path.ismount(mount_point):\n",
        "    print(f\"/Volume/{mount_point} is mounted.\")\n",
        "    model_dir = f\"/Volumes/{mount_point}/VSWorkspace/{model_name.replace('/', '_')}\"\n",
        "    os.environ[\"HF_HOME\"] = model_dir # Caching directory for Hugging Face models\n",
        "else:\n",
        "    print(f\"/Volume/{mount_point} is not mounted.\")\n",
        "    model_dir = \"model\""
      ]
    },
    {
      "cell_type": "code",
      "execution_count": null,
      "id": "48a04adb",
      "metadata": {
        "id": "48a04adb"
      },
      "outputs": [],
      "source": [
        "if os.path.exists(model_dir):\n",
        "    tokenizer = AutoTokenizer.from_pretrained(model_dir)\n",
        "    model = AutoModelForCausalLM.from_pretrained(model_dir)\n",
        "else:\n",
        "    tokenizer = AutoTokenizer.from_pretrained(model_name, device_map=device)\n",
        "    model = AutoModelForCausalLM.from_pretrained(\n",
        "        model_name,\n",
        "        torch_dtype=torch.float16,\n",
        "        device_map=\"auto\",\n",
        "        trust_remote_code=True,\n",
        "        use_safetensors=True\n",
        "    )"
      ]
    },
    {
      "cell_type": "code",
      "execution_count": null,
      "id": "qPOIy_S9ZHpz",
      "metadata": {
        "id": "qPOIy_S9ZHpz"
      },
      "outputs": [],
      "source": [
        "from datasets import Dataset\n",
        "\n",
        "df = pd.read_csv(\"dataset.csv\")\n",
        "dataset = Dataset.from_pandas(df)\n"
      ]
    },
    {
      "cell_type": "code",
      "execution_count": null,
      "id": "BZ6mCTV3eQsx",
      "metadata": {
        "id": "BZ6mCTV3eQsx"
      },
      "outputs": [],
      "source": [
        "print([name for name, _ in model.named_modules()])"
      ]
    },
    {
      "cell_type": "code",
      "execution_count": null,
      "id": "dLSRmwikZqNI",
      "metadata": {
        "id": "dLSRmwikZqNI"
      },
      "outputs": [],
      "source": [
        "lora_config = LoraConfig(\n",
        "    r=8,                           # Rank of the low-rank matrices\n",
        "    lora_alpha=32,                 # Scaling factor\n",
        "    target_modules=[\"q_proj\", \"k_proj\", \"v_proj\", \"o_proj\"],  # Module names where LoRA is applied\n",
        "    lora_dropout=0.1,              # Dropout during training for regularization\n",
        "    bias=\"none\",                   # Whether to train bias (\"none\", \"all\", or \"lora_only\")\n",
        "    task_type=TaskType.CAUSAL_LM   # Since we are only predicting the next token in sequence\n",
        ")\n",
        "\n",
        "\n",
        "model = get_peft_model(model, lora_config)\n",
        "model.print_trainable_parameters()"
      ]
    },
    {
      "cell_type": "markdown",
      "id": "IskTwsLkjQa4",
      "metadata": {
        "id": "IskTwsLkjQa4"
      },
      "source": [
        "Tokenize the entire dataset"
      ]
    },
    {
      "cell_type": "code",
      "execution_count": null,
      "id": "_pcc_LEIZuiT",
      "metadata": {
        "id": "_pcc_LEIZuiT"
      },
      "outputs": [],
      "source": [
        "def format(example):\n",
        "    return f\"### Instruction:\\n{example['English understanding']}\\n\\n### Output:\\n{example['Shell script']}\"\n",
        "\n",
        "def tokenize(example):\n",
        "    tokenizer.pad_token = tokenizer.eos_token # Defines the token that is used to pad around the tokens.\n",
        "    return tokenizer(format(example), truncation=True, padding=\"max_length\", max_length=512)\n",
        "\n",
        "tokenized_dataset = dataset.map(tokenize)"
      ]
    },
    {
      "cell_type": "code",
      "execution_count": null,
      "id": "uo_egX17xBK2",
      "metadata": {
        "id": "uo_egX17xBK2"
      },
      "outputs": [],
      "source": [
        "print(torch.cuda.device_count())\n",
        "print(f\"Allocated: {torch.cuda.memory_allocated() / 1e9:.2f} GB\")\n",
        "print(f\"Reserved : {torch.cuda.memory_reserved() / 1e9:.2f} GB\")"
      ]
    },
    {
      "cell_type": "code",
      "execution_count": null,
      "id": "Di6kKr-WIzFP",
      "metadata": {
        "id": "Di6kKr-WIzFP"
      },
      "outputs": [],
      "source": [
        "APIKEY = '08c7e1411b3a99f64afa74e0b8cf5b23f0230f70'\n",
        "wandb.login(key=APIKEY)"
      ]
    },
    {
      "cell_type": "code",
      "execution_count": null,
      "id": "_z_waSzFsDGM",
      "metadata": {
        "id": "_z_waSzFsDGM"
      },
      "outputs": [],
      "source": [
        "from transformers import TrainingArguments, Trainer, DataCollatorForLanguageModeling\n",
        "\n",
        "training_args = TrainingArguments(\n",
        "    output_dir=\"./lora-finetuned-model\",\n",
        "    per_device_train_batch_size=3,  # Training examples processed simultaneously\n",
        "    gradient_accumulation_steps=1,\n",
        "    num_train_epochs=10,\n",
        "    logging_dir=\"./logs\",\n",
        "    logging_steps=10,\n",
        "    save_strategy=\"epoch\",  # Save checkpoint every epoch\n",
        "    eval_strategy=\"no\",     # No evaluation during training\n",
        "    # Remove eval_steps since eval_strategy=\"no\" (eval_steps not needed)\n",
        "    learning_rate=2e-5,\n",
        "    load_best_model_at_end=False,  # Must be False if eval_strategy=\"no\"\n",
        "    save_total_limit=2,\n",
        "    weight_decay=0.01,\n",
        "    fp16=True\n",
        ")\n",
        "# Completing one dataset is one epoch\n",
        "# If batch is 100 and dataset is 1000 then 1 epoch is 10 steps\n",
        "\n",
        "data_collator = DataCollatorForLanguageModeling(tokenizer=tokenizer, mlm=False)\n",
        "\n",
        "trainer = Trainer(\n",
        "    model=model,\n",
        "    args=training_args,\n",
        "    train_dataset=tokenized_dataset,\n",
        "    tokenizer=tokenizer,\n",
        "    data_collator=data_collator,\n",
        ")\n",
        "\n",
        "trainer.train()"
      ]
    },
    {
      "cell_type": "code",
      "execution_count": null,
      "id": "ltNF3puQsHM1",
      "metadata": {
        "id": "ltNF3puQsHM1"
      },
      "outputs": [],
      "source": [
        "model.save_pretrained(\"finetuned_shell_model\")\n",
        "tokenizer.save_pretrained(\"finetuned_shell_model\")\n"
      ]
    },
    {
      "cell_type": "code",
      "execution_count": null,
      "id": "23_q-jdO9PKk",
      "metadata": {
        "id": "23_q-jdO9PKk"
      },
      "outputs": [],
      "source": [
        "def runExample(prompt):\n",
        "  inputs = tokenizer(prompt, return_tensors=\"pt\").to(device)\n",
        "  outputs = model.generate(**inputs, max_new_tokens=50)\n",
        "\n",
        "  output_text = tokenizer.decode(outputs[0], skip_special_tokens=True)\n",
        "  main_output = output_text.split(\"### Output:\")[1].strip().split(\"###\")[0].strip()\n",
        "  return(main_output)\n"
      ]
    },
    {
      "cell_type": "code",
      "execution_count": null,
      "id": "kcgeFc-ULUaz",
      "metadata": {
        "id": "kcgeFc-ULUaz"
      },
      "outputs": [],
      "source": [
        "prompt = \"### Instruction:\\nMove all files from A to B\\n\\n### Output:\\n\"\n",
        "output = runExample(prompt)\n",
        "print(output)"
      ]
    },
    {
      "cell_type": "code",
      "execution_count": null,
      "id": "X82RCsryidt7",
      "metadata": {
        "id": "X82RCsryidt7"
      },
      "outputs": [],
      "source": [
        "prompt = \"### Instruction:\\n Group files based on month and year.\\n\\n### Output:\\n\"\n",
        "output = runExample(prompt)\n",
        "print(output)"
      ]
    },
    {
      "cell_type": "code",
      "execution_count": null,
      "id": "o9nwEU5M7DNe",
      "metadata": {
        "id": "o9nwEU5M7DNe"
      },
      "outputs": [],
      "source": [
        "prompt = \"### Instruction:\\n Move all photos to ~/Images.\\n\\n### Output:\\n\"\n",
        "output = runExample(prompt)\n",
        "print(output)"
      ]
    },
    {
      "cell_type": "code",
      "execution_count": null,
      "id": "aviHhGkc9x4S",
      "metadata": {
        "id": "aviHhGkc9x4S"
      },
      "outputs": [],
      "source": [
        "os.getcwd()"
      ]
    },
    {
      "cell_type": "code",
      "execution_count": null,
      "id": "PlnRNDx860rg",
      "metadata": {
        "id": "PlnRNDx860rg"
      },
      "outputs": [],
      "source": [
        "import matplotlib.pyplot as plt\n",
        "\n",
        "logs = trainer.state.log_history\n",
        "steps = [log[\"step\"] for log in logs if \"loss\" in log]\n",
        "losses = [log[\"loss\"] for log in logs if \"loss\" in log]\n",
        "\n",
        "plt.plot(steps, losses, label=\"Training Loss\")\n",
        "plt.xlabel(\"Training Step\")\n",
        "plt.ylabel(\"Loss\")\n",
        "plt.title(\"Loss vs Training Step\")\n",
        "plt.grid(True)\n",
        "plt.legend()\n",
        "plt.show()"
      ]
    },
    {
      "cell_type": "code",
      "execution_count": null,
      "id": "eInC72TUAYYl",
      "metadata": {
        "id": "eInC72TUAYYl"
      },
      "outputs": [],
      "source": [
        "prompt = \"### Instruction:\\n Move all *.JPG, *.JPEG, *.MOV in current directory recursively to ~/Images.\\n\\n### Output:\\n\"\n",
        "result = runExample(prompt)\n",
        "print(result)"
      ]
    },
    {
      "cell_type": "code",
      "execution_count": null,
      "id": "HLKMVhRFGWjm",
      "metadata": {
        "id": "HLKMVhRFGWjm"
      },
      "outputs": [],
      "source": [
        "!zip -r finetuned_shell_model.zip finetuned_shell_model/\n",
        "\n",
        "from google.colab import files\n",
        "files.download('finetuned_shell_model.zip')"
      ]
    }
  ],
  "metadata": {
    "accelerator": "GPU",
    "colab": {
      "gpuType": "T4",
      "provenance": []
    },
    "kernelspec": {
      "display_name": "Python 3",
      "name": "python3"
    },
    "language_info": {
      "codemirror_mode": {
        "name": "ipython",
        "version": 3
      },
      "file_extension": ".py",
      "mimetype": "text/x-python",
      "name": "python",
      "nbconvert_exporter": "python",
      "pygments_lexer": "ipython3",
      "version": "3.9.12"
    }
  },
  "nbformat": 4,
  "nbformat_minor": 5
}
